{
 "cells": [
  {
   "cell_type": "code",
   "execution_count": 51,
   "id": "d42bfa8a-0b13-4445-86a3-9ce1460a49c5",
   "metadata": {},
   "outputs": [],
   "source": [
    "import numpy as np\n",
    "import pandas as pd \n",
    "import seaborn as sns \n",
    "import matplotlib.pyplot as plt\n",
    "\n",
    "import mysql.connector"
   ]
  },
  {
   "cell_type": "code",
   "execution_count": 6,
   "id": "a3ba8376-6598-4409-b340-aa7f20e35102",
   "metadata": {},
   "outputs": [
    {
     "name": "stdout",
     "output_type": "stream",
     "text": [
      "['Hello', 'Bye']\n"
     ]
    }
   ],
   "source": [
    "X = [\"Hello\",\"Bye\"]\n",
    "df = pd.DataFrame(X)\n",
    "print(X)"
   ]
  },
  {
   "cell_type": "code",
   "execution_count": 11,
   "id": "ffd69553-cefa-4ba7-a90a-257fb849076b",
   "metadata": {},
   "outputs": [
    {
     "name": "stdout",
     "output_type": "stream",
     "text": [
      "ABC\n",
      "12\n",
      "3.4\n"
     ]
    }
   ],
   "source": [
    "\n",
    "# Classes and Objects\n",
    "\n",
    "class vehicle():\n",
    "    def __init__(self,name,mileage,size):\n",
    "        self.name = name\n",
    "        self.mileage = mileage\n",
    "        self.size = size \n",
    "    \n",
    "\n",
    "car1 = vehicle(\"ABC\",12,3.4)\n",
    "\n",
    "print(car1.name)\n",
    "print(car1.mileage)\n",
    "print(car1.size)\n"
   ]
  },
  {
   "cell_type": "code",
   "execution_count": 31,
   "id": "f9c926fd-9e70-4555-8d17-c62e4e4a9422",
   "metadata": {},
   "outputs": [
    {
     "name": "stdout",
     "output_type": "stream",
     "text": [
      "[[1. 2. 3.]\n",
      " [4. 5. 6.]]\n",
      "[1 2 3]\n",
      "[[0. 0. 0. 0.]\n",
      " [0. 0. 0. 0.]\n",
      " [0. 0. 0. 0.]]\n",
      "[[0.51536979 0.29182976]\n",
      " [0.75558325 0.77062235]]\n",
      "[[ 1.  4.  9.]\n",
      " [ 4. 10. 18.]]\n",
      "[[1.  1.  1. ]\n",
      " [4.  2.5 2. ]]\n"
     ]
    }
   ],
   "source": [
    "a = np.array([[1,2,3],[4,5,6]] , dtype= 'float')\n",
    "\n",
    "print(a)\n",
    "\n",
    "b = np.array([1,2,3])\n",
    "print(b)\n",
    "\n",
    "d = np.zeros([3,4])\n",
    "print(d)\n",
    "\n",
    "e = np.random.random([2,2])\n",
    "print(e)\n",
    "\n",
    "\n",
    "c=a*b\n",
    "print(c)\n",
    "\n",
    "f = a/b\n",
    "print(f)"
   ]
  },
  {
   "cell_type": "code",
   "execution_count": 32,
   "id": "62b94ec1-e6a5-4080-b36b-76059c436a7e",
   "metadata": {},
   "outputs": [
    {
     "name": "stdout",
     "output_type": "stream",
     "text": [
      "[ 1  4  7 10 13 16 19 22 25 28 31 34 37 40 43 46 49 52 55 58 61 64 67 70\n",
      " 73 76 79 82 85 88 91 94 97]\n"
     ]
    }
   ],
   "source": [
    "x=np.arange(1,100,3)\n",
    "print(x)\n"
   ]
  },
  {
   "cell_type": "code",
   "execution_count": 36,
   "id": "a2f08f14-dcec-4c95-a96a-e354931b0497",
   "metadata": {},
   "outputs": [
    {
     "name": "stdout",
     "output_type": "stream",
     "text": [
      "[[ 1  4  7 10 13 16 19 22 25 28 31]\n",
      " [34 37 40 43 46 49 52 55 58 61 64]\n",
      " [67 70 73 76 79 82 85 88 91 94 97]]\n"
     ]
    }
   ],
   "source": [
    "x = x.reshape(3,11)\n",
    "print(x)\n"
   ]
  },
  {
   "cell_type": "code",
   "execution_count": 39,
   "id": "f33cbe83-9bb4-4c9c-bce7-1d35358eb5b0",
   "metadata": {},
   "outputs": [
    {
     "name": "stdout",
     "output_type": "stream",
     "text": [
      "[[ 1  4  7 10 13 16 19 22 25 28 31]\n",
      " [34 37 40 43 46 49 52 55 58 61 64]\n",
      " [67 70 73 76 79 82 85 88 91 94 97]]\n",
      "[[ 1  4  7 10 13 16 19 22 25 28 31]\n",
      " [34 37 40 43 46 49 52 55 58 61 64]\n",
      " [67 70 73 76 79 82 85 88 91 94 97]]\n",
      "[[ 1  4  7 10 13 16 19 22 25 28 31]\n",
      " [34 37 40 43 46 49 52 55 58 61 64]\n",
      " [67 70 73 76 79 82 85 88 91 94 97]]\n",
      "[[ 1  4  7 10 13 16 19 22 25 28 31]\n",
      " [34 37 40 43 46 49 52 55 58 61 64]\n",
      " [67 70 73 76 79 82 85 88 91 94 97]]\n",
      "[[ 1  4  7 10 13 16 19 22 25 28 31]\n",
      " [34 37 40 43 46 49 52 55 58 61 64]\n",
      " [67 70 73 76 79 82 85 88 91 94 97]]\n",
      "[[ 1  4  7 10 13 16 19 22 25 28 31]\n",
      " [34 37 40 43 46 49 52 55 58 61 64]\n",
      " [67 70 73 76 79 82 85 88 91 94 97]]\n",
      "[[ 1  4  7 10 13 16 19 22 25 28 31]\n",
      " [34 37 40 43 46 49 52 55 58 61 64]\n",
      " [67 70 73 76 79 82 85 88 91 94 97]]\n",
      "[[ 1  4  7 10 13 16 19 22 25 28 31]\n",
      " [34 37 40 43 46 49 52 55 58 61 64]\n",
      " [67 70 73 76 79 82 85 88 91 94 97]]\n",
      "[[ 1  4  7 10 13 16 19 22 25 28 31]\n",
      " [34 37 40 43 46 49 52 55 58 61 64]\n",
      " [67 70 73 76 79 82 85 88 91 94 97]]\n",
      "[[ 1  4  7 10 13 16 19 22 25 28 31]\n",
      " [34 37 40 43 46 49 52 55 58 61 64]\n",
      " [67 70 73 76 79 82 85 88 91 94 97]]\n",
      "[[ 1  4  7 10 13 16 19 22 25 28 31]\n",
      " [34 37 40 43 46 49 52 55 58 61 64]\n",
      " [67 70 73 76 79 82 85 88 91 94 97]]\n",
      "[[ 1  4  7 10 13 16 19 22 25 28 31]\n",
      " [34 37 40 43 46 49 52 55 58 61 64]\n",
      " [67 70 73 76 79 82 85 88 91 94 97]]\n",
      "[[ 1  4  7 10 13 16 19 22 25 28 31]\n",
      " [34 37 40 43 46 49 52 55 58 61 64]\n",
      " [67 70 73 76 79 82 85 88 91 94 97]]\n",
      "[[ 1  4  7 10 13 16 19 22 25 28 31]\n",
      " [34 37 40 43 46 49 52 55 58 61 64]\n",
      " [67 70 73 76 79 82 85 88 91 94 97]]\n",
      "[[ 1  4  7 10 13 16 19 22 25 28 31]\n",
      " [34 37 40 43 46 49 52 55 58 61 64]\n",
      " [67 70 73 76 79 82 85 88 91 94 97]]\n",
      "[[ 1  4  7 10 13 16 19 22 25 28 31]\n",
      " [34 37 40 43 46 49 52 55 58 61 64]\n",
      " [67 70 73 76 79 82 85 88 91 94 97]]\n",
      "[[ 1  4  7 10 13 16 19 22 25 28 31]\n",
      " [34 37 40 43 46 49 52 55 58 61 64]\n",
      " [67 70 73 76 79 82 85 88 91 94 97]]\n",
      "[[ 1  4  7 10 13 16 19 22 25 28 31]\n",
      " [34 37 40 43 46 49 52 55 58 61 64]\n",
      " [67 70 73 76 79 82 85 88 91 94 97]]\n",
      "[[ 1  4  7 10 13 16 19 22 25 28 31]\n",
      " [34 37 40 43 46 49 52 55 58 61 64]\n",
      " [67 70 73 76 79 82 85 88 91 94 97]]\n",
      "[[ 1  4  7 10 13 16 19 22 25 28 31]\n",
      " [34 37 40 43 46 49 52 55 58 61 64]\n",
      " [67 70 73 76 79 82 85 88 91 94 97]]\n",
      "[[ 1  4  7 10 13 16 19 22 25 28 31]\n",
      " [34 37 40 43 46 49 52 55 58 61 64]\n",
      " [67 70 73 76 79 82 85 88 91 94 97]]\n",
      "[[ 1  4  7 10 13 16 19 22 25 28 31]\n",
      " [34 37 40 43 46 49 52 55 58 61 64]\n",
      " [67 70 73 76 79 82 85 88 91 94 97]]\n",
      "[[ 1  4  7 10 13 16 19 22 25 28 31]\n",
      " [34 37 40 43 46 49 52 55 58 61 64]\n",
      " [67 70 73 76 79 82 85 88 91 94 97]]\n",
      "[[ 1  4  7 10 13 16 19 22 25 28 31]\n",
      " [34 37 40 43 46 49 52 55 58 61 64]\n",
      " [67 70 73 76 79 82 85 88 91 94 97]]\n",
      "[[ 1  4  7 10 13 16 19 22 25 28 31]\n",
      " [34 37 40 43 46 49 52 55 58 61 64]\n",
      " [67 70 73 76 79 82 85 88 91 94 97]]\n",
      "[[ 1  4  7 10 13 16 19 22 25 28 31]\n",
      " [34 37 40 43 46 49 52 55 58 61 64]\n",
      " [67 70 73 76 79 82 85 88 91 94 97]]\n",
      "[[ 1  4  7 10 13 16 19 22 25 28 31]\n",
      " [34 37 40 43 46 49 52 55 58 61 64]\n",
      " [67 70 73 76 79 82 85 88 91 94 97]]\n",
      "[[ 1  4  7 10 13 16 19 22 25 28 31]\n",
      " [34 37 40 43 46 49 52 55 58 61 64]\n",
      " [67 70 73 76 79 82 85 88 91 94 97]]\n",
      "[[ 1  4  7 10 13 16 19 22 25 28 31]\n",
      " [34 37 40 43 46 49 52 55 58 61 64]\n",
      " [67 70 73 76 79 82 85 88 91 94 97]]\n",
      "[[ 1  4  7 10 13 16 19 22 25 28 31]\n",
      " [34 37 40 43 46 49 52 55 58 61 64]\n",
      " [67 70 73 76 79 82 85 88 91 94 97]]\n",
      "[[ 1  4  7 10 13 16 19 22 25 28 31]\n",
      " [34 37 40 43 46 49 52 55 58 61 64]\n",
      " [67 70 73 76 79 82 85 88 91 94 97]]\n",
      "[[ 1  4  7 10 13 16 19 22 25 28 31]\n",
      " [34 37 40 43 46 49 52 55 58 61 64]\n",
      " [67 70 73 76 79 82 85 88 91 94 97]]\n",
      "[[ 1  4  7 10 13 16 19 22 25 28 31]\n",
      " [34 37 40 43 46 49 52 55 58 61 64]\n",
      " [67 70 73 76 79 82 85 88 91 94 97]]\n"
     ]
    }
   ],
   "source": [
    "for i in np.nditer(x,order=\"C\"):\n",
    "    print(x)"
   ]
  },
  {
   "cell_type": "code",
   "execution_count": 44,
   "id": "58d555f9-e57e-475a-8450-208b0059ac9f",
   "metadata": {},
   "outputs": [
    {
     "name": "stdout",
     "output_type": "stream",
     "text": [
      "[array([[ 1,  4,  7, 10, 13, 16, 19, 22, 25, 28, 31]]), array([[34, 37, 40, 43, 46, 49, 52, 55, 58, 61, 64]]), array([[67, 70, 73, 76, 79, 82, 85, 88, 91, 94, 97]])]\n"
     ]
    },
    {
     "data": {
      "text/plain": [
       "array([[ 1,  4,  7, 10, 13, 16, 19, 22, 25, 28, 31],\n",
       "       [34, 37, 40, 43, 46, 49, 52, 55, 58, 61, 64],\n",
       "       [67, 70, 73, 76, 79, 82, 85, 88, 91, 94, 97]])"
      ]
     },
     "execution_count": 44,
     "metadata": {},
     "output_type": "execute_result"
    }
   ],
   "source": [
    "y=np.split(x,3)\n",
    "print(y)\n",
    "\n",
    "x"
   ]
  },
  {
   "cell_type": "code",
   "execution_count": 50,
   "id": "06a26f22-59af-4744-b848-9c58fb39ef0d",
   "metadata": {},
   "outputs": [
    {
     "data": {
      "text/plain": [
       "[array([[0, 1, 2, 3],\n",
       "        [4, 5, 6, 7]]),\n",
       " array([[ 8,  9, 10, 11],\n",
       "        [12, 13, 14, 15]])]"
      ]
     },
     "execution_count": 50,
     "metadata": {},
     "output_type": "execute_result"
    }
   ],
   "source": [
    "t = np.arange(16).reshape(4,4)\n",
    "\n",
    "#r = np.hsplit(t,2)\n",
    "#r\n",
    "\n",
    "s= np.vsplit(t,2)\n",
    "s"
   ]
  },
  {
   "cell_type": "code",
   "execution_count": null,
   "id": "984fc54d-ace6-4700-bf9f-a46430b0759f",
   "metadata": {},
   "outputs": [],
   "source": []
  },
  {
   "cell_type": "code",
   "execution_count": 2,
   "id": "42fb1c40-1509-4485-aefd-e497262ba930",
   "metadata": {},
   "outputs": [],
   "source": [
    "import numpy as np \n",
    "import matplotlib.pyplot as plt\n",
    "from sklearn import svm\n",
    "from sklearn.datasets import make_blobs"
   ]
  },
  {
   "cell_type": "code",
   "execution_count": 12,
   "id": "c8f3c86e-b0d6-4b93-a899-82ce10ed7979",
   "metadata": {},
   "outputs": [],
   "source": [
    "x,y = make_blobs(n_samples = 500, centers = 12 , random_state = 200)"
   ]
  },
  {
   "cell_type": "code",
   "execution_count": 16,
   "id": "64730b51-647f-40bf-8d1b-1bdc506016f7",
   "metadata": {},
   "outputs": [
    {
     "data": {
      "image/png": "[encoded data removed]",
      "text/plain": [
       "<Figure size 432x288 with 1 Axes>"
      ]
     },
     "metadata": {
      "needs_background": "light"
     },
     "output_type": "display_data"
    }
   ],
   "source": [
    "plt.scatter(x[:,0],x[:,1],c=y,s=20,cmap = plt.cm.Paired)\n",
    "plt.show()"
   ]
  },
  {
   "cell_type": "code",
   "execution_count": null,
   "id": "56f99a5a-d80d-4b5a-bccb-9590cf8223cd",
   "metadata": {},
   "outputs": [],
   "source": []
  },
  {
   "cell_type": "code",
   "execution_count": 21,
   "id": "4ed5ed5a-7131-443c-97b1-f384e0869635",
   "metadata": {},
   "outputs": [
    {
     "data": {
      "text/plain": [
       "7"
      ]
     },
     "execution_count": 21,
     "metadata": {},
     "output_type": "execute_result"
    }
   ],
   "source": [
    "529 % 9"
   ]
  },
  {
   "cell_type": "code",
   "execution_count": 20,
   "id": "c6b1a6a0-5d2c-4518-837a-715909edccef",
   "metadata": {},
   "outputs": [
    {
     "data": {
      "text/plain": [
       "7"
      ]
     },
     "execution_count": 20,
     "metadata": {},
     "output_type": "execute_result"
    }
   ],
   "source": [
    "x = 23\n",
    "def fun(x):\n",
    "  y = pow(x, 2)\n",
    "  if (y == 0):\n",
    "    return 0\n",
    "  if (y % 9 == 0):\n",
    "    return 9\n",
    "  else:\n",
    "    return y % 9\n",
    "\n",
    "fun(x)"
   ]
  },
  {
   "cell_type": "raw",
   "id": "dfbe0a69-c4a2-49ca-adf3-e22a8e7d3973",
   "metadata": {},
   "source": [
    "400  4 \n"
   ]
  },
  {
   "cell_type": "code",
   "execution_count": 26,
   "id": "20702b43-103d-42ca-a68e-4fd0400f247f",
   "metadata": {},
   "outputs": [
    {
     "data": {
      "text/plain": [
       "9"
      ]
     },
     "execution_count": 26,
     "metadata": {},
     "output_type": "execute_result"
    }
   ],
   "source": [
    "def func(x):\n",
    "    num = pow (x,2)\n",
    "    if (num == 0):\n",
    "        return 0\n",
    "    \n",
    "    if (num % 9 == 0):\n",
    "        return 9\n",
    "    else: \n",
    "        return y % 9 \n",
    "    \n",
    "    \n",
    "fun(21)"
   ]
  },
  {
   "cell_type": "code",
   "execution_count": 28,
   "id": "b21c08ab-8759-45b9-8df9-75113cfc504e",
   "metadata": {},
   "outputs": [
    {
     "data": {
      "text/plain": [
       "4"
      ]
     },
     "execution_count": 28,
     "metadata": {},
     "output_type": "execute_result"
    }
   ],
   "source": [
    "400 % 9"
   ]
  },
  {
   "cell_type": "code",
   "execution_count": null,
   "id": "bb043328-6c56-4710-bda0-619e5bcba7d2",
   "metadata": {},
   "outputs": [],
   "source": []
  }
 ],
 "metadata": {
  "kernelspec": {
   "display_name": "Python 3 (ipykernel)",
   "language": "python",
   "name": "python3"
  },
  "language_info": {
   "codemirror_mode": {
    "name": "ipython",
    "version": 3
   },
   "file_extension": ".py",
   "mimetype": "text/x-python",
   "name": "python",
   "nbconvert_exporter": "python",
   "pygments_lexer": "ipython3",
   "version": "3.9.12"
  }
 },
 "nbformat": 4,
 "nbformat_minor": 5
}
